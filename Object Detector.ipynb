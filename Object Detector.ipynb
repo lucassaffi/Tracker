{
 "cells": [
  {
   "cell_type": "code",
   "execution_count": 4,
   "metadata": {},
   "outputs": [],
   "source": [
    "import pandas as pd\n",
    "import numpy as np\n",
    "from keras.layers import Dense,Input,Conv2D,Flatten,MaxPooling2D\n",
    "from keras.models import Model,Sequential\n",
    "from keras.datasets import mnist,cifar10\n",
    "from keras.utils import to_categorical\n",
    "import matplotlib.pyplot as plt\n",
    "\n",
    "(x_train,y_train),(x_test,y_test) = cifar10.load_data()\n",
    "x_train = x_train/255\n",
    "x_test = x_test/255\n",
    "y_train = to_categorical(y_train)\n",
    "y_test = to_categorical(y_test)"
   ]
  },
  {
   "cell_type": "code",
   "execution_count": 6,
   "metadata": {},
   "outputs": [
    {
     "name": "stdout",
     "output_type": "stream",
     "text": [
      "_________________________________________________________________\n",
      "Layer (type)                 Output Shape              Param #   \n",
      "=================================================================\n",
      "input_3 (InputLayer)         (None, 32, 32, 3)         0         \n",
      "_________________________________________________________________\n",
      "conv2d_5 (Conv2D)            (None, 30, 30, 64)        1792      \n",
      "_________________________________________________________________\n",
      "conv2d_6 (Conv2D)            (None, 28, 28, 128)       73856     \n",
      "_________________________________________________________________\n",
      "max_pooling2d_1 (MaxPooling2 (None, 9, 9, 128)         0         \n",
      "_________________________________________________________________\n",
      "flatten_1 (Flatten)          (None, 10368)             0         \n",
      "_________________________________________________________________\n",
      "dense_1 (Dense)              (None, 32)                331808    \n",
      "_________________________________________________________________\n",
      "dense_2 (Dense)              (None, 10)                330       \n",
      "=================================================================\n",
      "Total params: 407,786\n",
      "Trainable params: 407,786\n",
      "Non-trainable params: 0\n",
      "_________________________________________________________________\n",
      "Epoch 1/5\n",
      "50000/50000 [==============================] - 569s 11ms/step - loss: 2.1302 - acc: 0.2297\n",
      "Epoch 2/5\n",
      "50000/50000 [==============================] - 768s 15ms/step - loss: 1.8724 - acc: 0.3445\n",
      "Epoch 3/5\n",
      "50000/50000 [==============================] - 823s 16ms/step - loss: 1.6977 - acc: 0.4026\n",
      "Epoch 4/5\n",
      "50000/50000 [==============================] - 633s 13ms/step - loss: 1.5495 - acc: 0.4542\n",
      "Epoch 5/5\n",
      "50000/50000 [==============================] - 612s 12ms/step - loss: 1.4478 - acc: 0.4906\n"
     ]
    },
    {
     "data": {
      "text/plain": [
       "<keras.callbacks.History at 0x2942d5b9b0>"
      ]
     },
     "execution_count": 6,
     "metadata": {},
     "output_type": "execute_result"
    }
   ],
   "source": [
    "inputs = Input((x_train[0].shape))\n",
    "x = Conv2D(filters=64,kernel_size=3,activation='relu')(inputs)\n",
    "x = Conv2D(filters=128,kernel_size=3,activation='relu')(x)\n",
    "x = MaxPooling2D(3)(x)\n",
    "x = Flatten()(x)\n",
    "x = Dense(32)(x)\n",
    "predictions = Dense(10,activation='softmax')(x)\n",
    "model = Model(inputs=inputs,outputs=predictions)\n",
    "model.summary()\n",
    "model.compile(optimizer='sgd',loss='categorical_crossentropy',metrics=['accuracy'])\n",
    "model.fit(x_train,y_train,epochs=5,batch_size=128)"
   ]
  },
  {
   "cell_type": "code",
   "execution_count": null,
   "metadata": {},
   "outputs": [],
   "source": []
  }
 ],
 "metadata": {
  "kernelspec": {
   "display_name": "Python 3",
   "language": "python",
   "name": "python3"
  },
  "language_info": {
   "codemirror_mode": {
    "name": "ipython",
    "version": 3
   },
   "file_extension": ".py",
   "mimetype": "text/x-python",
   "name": "python",
   "nbconvert_exporter": "python",
   "pygments_lexer": "ipython3",
   "version": "3.6.5"
  }
 },
 "nbformat": 4,
 "nbformat_minor": 2
}
